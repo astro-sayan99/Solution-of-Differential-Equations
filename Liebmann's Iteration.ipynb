{
 "cells": [
  {
   "cell_type": "markdown",
   "id": "9ed8aec5",
   "metadata": {},
   "source": [
    "## Liebmann's Iteration"
   ]
  },
  {
   "cell_type": "code",
   "execution_count": 1,
   "id": "d58d68df",
   "metadata": {},
   "outputs": [
    {
     "name": "stdout",
     "output_type": "stream",
     "text": [
      "u1 = 8.333358764648438, u2 = 8.750038146972656, u3 = 8.333358764648438, u4 = 7.500038146972656, u5 = 8.33343505859375, u6 = 7.500038146972656, u7 = 8.333358764648438, u8 = 8.750038146972656, u9 = 8.333358764648438\n"
     ]
    }
   ],
   "source": [
    "import numpy as np\n",
    "\n",
    "b = np.array([10, 10, 10, 10, 10, 5, 5, 5, 10, 10, 10, 10, 10, 5, 5, 5])\n",
    "u = np.zeros(9)\n",
    "u_mod = np.zeros(9)\n",
    "\n",
    "e = 0.001\n",
    "\n",
    "u[4] = (b[0] + b[4] + b[8] + b[12]) / 4\n",
    "u[0] = (b[0] + b[2] + u[4] + b[14]) / 4\n",
    "u[2] = (b[2] + b[4] + b[6] + u[4]) / 4\n",
    "u[6] = (b[14] + u[4] + b[10] + b[12]) / 4\n",
    "u[8] = (u[4] + b[6] + b[8] + b[10]) / 4\n",
    "\n",
    "u[1] = (u[0] + b[2] + u[2] + u[4]) / 4\n",
    "u[5] = (u[4] + u[2] + b[6] + u[8]) / 4\n",
    "u[7] = (u[6] + u[4] + u[8] + b[10]) / 4\n",
    "u[3] = (b[14] + u[0] + u[4] + u[6]) / 4\n",
    "\n",
    "while True:\n",
    "    u_mod[:] = u\n",
    "    \n",
    "    u[4] = (u[0] + u[2] + u[8] + u[6]) / 4\n",
    "    u[0] = (b[0] + b[2] + u[4] + b[14]) / 4\n",
    "    u[2] = (b[2] + b[4] + b[6] + u[4]) / 4\n",
    "    u[6] = (b[14] + u[4] + b[10] + b[12]) / 4\n",
    "    u[8] = (u[4] + b[6] + b[8] + b[10]) / 4\n",
    "\n",
    "    u[1] = (u[0] + b[2] + u[2] + u[4]) / 4\n",
    "    u[5] = (u[4] + u[2] + b[6] + u[8]) / 4\n",
    "    u[7] = (u[6] + u[4] + u[8] + b[10]) / 4\n",
    "    u[3] = (b[14] + u[0] + u[4] + u[6]) / 4\n",
    "    \n",
    "    if np.all(np.abs(u - u_mod) <= e):\n",
    "        break\n",
    "        \n",
    "print(f\"u1 = {u[0]}, u2 = {u[1]}, u3 = {u[2]}, u4 = {u[3]}, u5 = {u[4]}, u6 = {u[5]}, u7 = {u[6]}, u8 = {u[7]}, u9 = {u[8]}\")"
   ]
  }
 ],
 "metadata": {
  "kernelspec": {
   "display_name": "Python 3 (ipykernel)",
   "language": "python",
   "name": "python3"
  },
  "language_info": {
   "codemirror_mode": {
    "name": "ipython",
    "version": 3
   },
   "file_extension": ".py",
   "mimetype": "text/x-python",
   "name": "python",
   "nbconvert_exporter": "python",
   "pygments_lexer": "ipython3",
   "version": "3.11.4"
  }
 },
 "nbformat": 4,
 "nbformat_minor": 5
}
